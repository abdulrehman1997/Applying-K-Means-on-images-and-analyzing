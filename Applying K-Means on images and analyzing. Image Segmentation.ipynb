{
 "cells": [
  {
   "cell_type": "markdown",
   "metadata": {},
   "source": [
    "# K-Means.\n",
    "\n",
    "### In this Notebook we will apply K-Means clustering on images to segment them into different parts.\n",
    "### We will segment the image with different values of K and analyse it to find out which value of K gives the best results."
   ]
  },
  {
   "cell_type": "markdown",
   "metadata": {},
   "source": [
    "## Importing necessary packages."
   ]
  },
  {
   "cell_type": "code",
   "execution_count": 2,
   "metadata": {},
   "outputs": [],
   "source": [
    "from PIL import Image\n",
    "import numpy as np\n",
    "import pandas as pd\n",
    "\n",
    "from sklearn.decomposition import PCA\n",
    "from sklearn.manifold import TSNE\n",
    "from sklearn.cluster import KMeans\n",
    "from sklearn.metrics import silhouette_score, calinski_harabasz_score\n",
    "from sklearn.mixture import GaussianMixture\n",
    "\n",
    "import matplotlib.pyplot as plt\n",
    "from matplotlib.ticker import PercentFormatter\n",
    "%matplotlib inline\n",
    "from mpl_toolkits import mplot3d\n",
    "\n",
    "import plotly.express as px"
   ]
  },
  {
   "cell_type": "markdown",
   "metadata": {},
   "source": [
    "## We have to import the Picture. \n",
    "\n",
    "### After importing the picture, the picture is preprocessed to be suitable to run the K-means algorithm\n",
    "### We have to do the following to the picture:\n",
    "    - Convert to a NumPy Array.\n",
    "    - Change to encoding to float32.\n",
    "    - Normaalise the Array with MinMax Normalization.\n",
    "    - Convert the 3 dimensional image array to a 5 dimensional feature vector. The 5-dimensions are normalized vertical and horizontal coordinates of the pixel relative to the top-left corner of the image and the normalized R, G and B values of the image at that pixel."
   ]
  },
  {
   "cell_type": "markdown",
   "metadata": {},
   "source": [
    "## Method to apply MinMax Normalisation to the NumPy array of the Image."
   ]
  },
  {
   "cell_type": "code",
   "execution_count": 3,
   "metadata": {},
   "outputs": [],
   "source": [
    "def norm_pix(data):\n",
    "    for i in range(data.shape[2]):\n",
    "        mi = data[..., i].min() #finding the Minimum value data point in the data.\n",
    "        ma = data[..., i].max() #finding the Maximum value data point in the data.\n",
    "        # Now we Traverse over all the point and normalize them using the min max normalization formula\n",
    "        # normalised = (x-min)/(max-min)\n",
    "        for j in range(data.shape[0]):\n",
    "            for k in range(data.shape[1]):\n",
    "                data[j][k][i]=(data[j][k][i]-mi)/(ma-mi)\n",
    "    return data"
   ]
  },
  {
   "cell_type": "markdown",
   "metadata": {},
   "source": [
    "## Method to Convert the Image data to 5 features dataset with X,Y,R,G,B values as features."
   ]
  },
  {
   "cell_type": "markdown",
   "metadata": {},
   "source": [
    "- While converting to 5 features dataset, we take in the normalised R,G,B values. \n",
    "- The new X,Y values also have to be normalise for the new dataset to be fully normalised.\n",
    "- In this function we Normalise the X,Y values before converting it into a 5 features dataset."
   ]
  },
  {
   "cell_type": "code",
   "execution_count": 5,
   "metadata": {},
   "outputs": [],
   "source": [
    "def create_data(data): #Input is normalised Numpy array.\n",
    "    shape = data.shape\n",
    "    final = []\n",
    "    for i in range(shape[0]):\n",
    "        t1 = []\n",
    "        for j in range(shape[1]):\n",
    "            t2=[i/(shape[0]-1),j/(shape[1]-1)] # normalising the X,Y values and putting normslised values in list t2\n",
    "            # Appending R,G,B values to t2 to get t2 = [X,Y,R,G,B]\n",
    "            t2.append(data[i][j][0]) \n",
    "            t2.append(data[i][j][1])\n",
    "            t2.append(data[i][j][2])\n",
    "            t1.append(t2) # Appending t2 values of column j in row i into list t1 \n",
    "        final.append(t1) # Appending t1 values which contain  t2 values of row i into list final\n",
    "    # We now have a list of shape (data.shape[0],data.shape[1],5)\n",
    "    # We need all [X,Y,R,G,B] values to be in one list.\n",
    "    # We need list of shape (data.shape[0]*data.shape[1],5)\n",
    "    data = []\n",
    "    for i in range(len(final)):\n",
    "        for j in range(len(final[0])):\n",
    "            data.append(final[i][j])\n",
    "    # Alternatively Reshape function can also be used.\n",
    "    return data"
   ]
  },
  {
   "cell_type": "markdown",
   "metadata": {},
   "source": [
    "## Method to Input an image and Preprocess the image to return a dataset with 5 features."
   ]
  },
  {
   "cell_type": "markdown",
   "metadata": {},
   "source": [
    "- Input the image\n",
    "- Convert image to a NumPy Array.\n",
    "- Change to encoding to float32.\n",
    "- Normaalise the Array with MinMax Normalization.\n",
    "- Convert the 3 dimensional image array to a 5 dimensional feature vector."
   ]
  },
  {
   "cell_type": "code",
   "execution_count": 7,
   "metadata": {},
   "outputs": [],
   "source": [
    "def preprocess(img):\n",
    "    img = np.array(img) # Converting image img to a NumPy Array.\n",
    "    img = img.astype('float32') # Changing the encoding of the numpy array img to float32.\n",
    "    \n",
    "    norm_img = norm_pix(img) # Normaalising the Array with MinMax Normalization.\n",
    "    data = create_data(norm_img) # Converting the 3 dimensional norm_img to a 5 feature dataset.\n",
    "    data = np.array(data) # Converting list to NumPy Array.\n",
    "    \n",
    "    return(data)"
   ]
  },
  {
   "cell_type": "markdown",
   "metadata": {},
   "source": [
    "### We now import the image and preprocess the image to convert it into a dataset.\n",
    "\n",
    "For this Notebook we will be importing a picture of a Parachute and applying the analysis on this picture. You can change the image path in this part to apply the analysis to ur image."
   ]
  },
  {
   "cell_type": "code",
   "execution_count": 23,
   "metadata": {},
   "outputs": [
    {
     "data": {
      "text/plain": [
       "array([[0.00000000e+00, 0.00000000e+00, 2.64822125e-01, 4.59349602e-01,\n",
       "        7.91338563e-01],\n",
       "       [0.00000000e+00, 6.25390869e-04, 2.64822125e-01, 4.59349602e-01,\n",
       "        7.91338563e-01],\n",
       "       [0.00000000e+00, 1.25078174e-03, 2.64822125e-01, 4.59349602e-01,\n",
       "        7.91338563e-01],\n",
       "       ...,\n",
       "       [1.00000000e+00, 9.98749218e-01, 2.84584969e-01, 4.87804890e-01,\n",
       "        8.18897665e-01],\n",
       "       [1.00000000e+00, 9.99374609e-01, 2.80632406e-01, 4.83739823e-01,\n",
       "        8.14960659e-01],\n",
       "       [1.00000000e+00, 1.00000000e+00, 2.80632406e-01, 4.83739823e-01,\n",
       "        8.14960659e-01]])"
      ]
     },
     "execution_count": 23,
     "metadata": {},
     "output_type": "execute_result"
    }
   ],
   "source": [
    "path = 'parachute.jpg' # path of the input image. You can change to path to the input of your choice.\n",
    "\n",
    "img = Image.open(path) # Importing the image.\n",
    "para = preprocess(img) # Retreiving the Dataset from the image. \n",
    "\n",
    "para"
   ]
  },
  {
   "cell_type": "markdown",
   "metadata": {},
   "source": [
    "We Should get a 2 dimensional array with shape (?,5)."
   ]
  },
  {
   "cell_type": "markdown",
   "metadata": {},
   "source": [
    "### Reducing Dataset size. (OPTIONAL)\n",
    "\n",
    "Sometimes due to large images or low computing power the dataset takes a long time to run.\n",
    "It is seen that if we take random points from the dataset and run the algorithms through this smaller dataset we get similar results.\n",
    "\n",
    "### This is optional it is not necessary to run this.\n",
    "\n",
    "In the following cell we randomply pick datapoints which would represent the image in a smaller dataset."
   ]
  },
  {
   "cell_type": "code",
   "execution_count": 12,
   "metadata": {},
   "outputs": [
    {
     "name": "stdout",
     "output_type": "stream",
     "text": [
      "Before reducing size: (2022400, 5)\n",
      "After reducing size: (10000, 5)\n"
     ]
    }
   ],
   "source": [
    "print('Before reducing size: '+str(para.shape))\n",
    "\n",
    "idx = np.random.randint(len(para), size=10000) # making a list of 10000 random index values from 0 to len(para)\n",
    "para = para[idx,:] # selecting random datapoints which would represent the image in a smaller dataset.\n",
    "\n",
    "print('After reducing size: '+str(para.shape))"
   ]
  },
  {
   "cell_type": "markdown",
   "metadata": {},
   "source": [
    "## K-Means Analysis and image segmentation.\n",
    "\n",
    "### Now that We have the image in a dataset format we can apply K-Means in this dataset and analyse the segments. \n",
    "### We have to do the following steps:\n",
    "    - Choose a value for K\n",
    "    - Run K-Means on the dataset and retreive the cluster labels for each datapoint.\n",
    "    - Plot the datapoints with the cluster label representing the color of the datapoint.\n",
    "    - Run PCA on the dataset.\n",
    "    - Plot the PCA with the cluster label representing the color of the datapoint.\n",
    "    - Run t-SNE on the dataset.\n",
    "    - Plot the t-SNE with the cluster label representing the color of the datapoint.\n",
    "    - Calculate and save the K value and the silhouette coefficent for clusters formed with K.\n",
    "    - Calculate and save the K value and the CH Index for clusters formed with K."
   ]
  },
  {
   "cell_type": "markdown",
   "metadata": {},
   "source": [
    "## Method to run K-Means on the dataset and plot the clusters."
   ]
  },
  {
   "cell_type": "code",
   "execution_count": 24,
   "metadata": {},
   "outputs": [],
   "source": [
    "def plot_kmean(data,k):\n",
    "    \n",
    "    kmeans = KMeans(k, random_state=0).fit_predict(data) # Run K-Means on the data and retreive labels for k clusters.\n",
    "    \n",
    "    # Plotting the datapoints with the cluster label representing the color of the datapoint.\n",
    "    plt.scatter(data[:,1],data[:,0],c=kmeans) \n",
    "    plt.gca().invert_yaxis()\n",
    "    plt.show()\n",
    "    \n",
    "    return kmeans"
   ]
  },
  {
   "cell_type": "markdown",
   "metadata": {},
   "source": [
    "## Method to run PCA on the dataset and return the Principal Components."
   ]
  },
  {
   "cell_type": "code",
   "execution_count": 25,
   "metadata": {},
   "outputs": [],
   "source": [
    "def get_pca(data):\n",
    "    \n",
    "    # Applying PCA on Data to retreive the Principal Components.\n",
    "    pca = PCA()\n",
    "    principalComponents = pca.fit_transform(data)\n",
    "    principalComponents = pd.DataFrame(data = principalComponents,\n",
    "                                       columns = ['PC1','PC2','PC3','PC4','PC5'])\n",
    "    \n",
    "    return(pca,principalComponents)"
   ]
  },
  {
   "cell_type": "markdown",
   "metadata": {},
   "source": [
    "## Method to plot the Principal Components with the K-Means labels."
   ]
  },
  {
   "cell_type": "markdown",
   "metadata": {},
   "source": [
    "While plotting the principal components we take the first two main principal components of the dataset."
   ]
  },
  {
   "cell_type": "code",
   "execution_count": 26,
   "metadata": {},
   "outputs": [],
   "source": [
    "def plot_PCA_2D(principalComponents,labels):\n",
    "    \n",
    "    # Plotting the PCA with the cluster labels representing the color of the datapoint.\n",
    "    plt.scatter(principalComponents['PC1'], principalComponents['PC2'],c=labels,s=1)\n",
    "    plt.gca().invert_yaxis()\n",
    "    plt.show()"
   ]
  },
  {
   "cell_type": "markdown",
   "metadata": {},
   "source": [
    "## Method to run t-SNE on the dataset and return the 2 Entities."
   ]
  },
  {
   "cell_type": "code",
   "execution_count": 27,
   "metadata": {},
   "outputs": [],
   "source": [
    "def get_tsne(data, n_components):\n",
    "    \n",
    "    # Applying t-SNE on Data to retreive the Entities.\n",
    "    tsne = TSNE(n_components=n_components, perplexity=50)\n",
    "    Entities = tsne.fit_transform(data)\n",
    "    Entities = pd.DataFrame(data = Entities,columns = ['E1','E2'])\n",
    "    return(tsne,Entities)"
   ]
  },
  {
   "cell_type": "markdown",
   "metadata": {},
   "source": [
    "## Method to plot the Entities with the K-Means labels."
   ]
  },
  {
   "cell_type": "code",
   "execution_count": 28,
   "metadata": {},
   "outputs": [],
   "source": [
    "def plot_tsne(Entities,labels):\n",
    "    \n",
    "    # Plotting the t-SNE with the cluster labels representing the color of the datapoint.\n",
    "    plt.scatter(Entities['E1'], Entities['E2'],c=labels,s=1)\n",
    "    plt.gca().invert_yaxis()\n",
    "    plt.show()"
   ]
  },
  {
   "cell_type": "markdown",
   "metadata": {},
   "source": [
    "Now that we have implemented all the basic functions required for the analysis we will now Implement a function to retrieve all the information."
   ]
  },
  {
   "cell_type": "markdown",
   "metadata": {},
   "source": [
    "## Method to do K-Means Analysis.\n",
    "\n",
    "- Run K-Means on the dataset and retreive the cluster labels for each datapoint.\n",
    "- Plot the datapoints with the cluster label representing the color of the datapoint.\n",
    "- Run PCA on the dataset.\n",
    "- Plot the PCA with the cluster label representing the color of the datapoint.\n",
    "- Run t-SNE on the dataset.\n",
    "- Plot the t-SNE with the cluster label representing the color of the datapoint.\n",
    "- Calculate and save the K value and the silhouette coefficent for clusters formed with K.\n",
    "- Calculate and save the K value and the CH Index for clusters formed with K."
   ]
  },
  {
   "cell_type": "code",
   "execution_count": 29,
   "metadata": {},
   "outputs": [],
   "source": [
    "def kmeans_analysis(data,k):\n",
    "    kmeans = plot_kmean(data,k) # Plotting the K-Means \n",
    "    pca,principalComponents = get_pca(data) # Retreiving Principal Components\n",
    "    plot_PCA_2D(principalComponents,kmeans) # Plotting the PCA with K-Means labels\n",
    "    \n",
    "    tsne , Entities = get_tsne(data,2) # Retreiving t-SNE Entities.\n",
    "    plot_tsne(Entities,kmeans) # Plotting the t-SNE with K-Means labels\n",
    "    \n",
    "    # Calculating the silhouette coefficent.\n",
    "    print('silhouette coefficent for kmeans K ='+str(n)+' -> '+str(silhouette_score(data, kmeans, metric='euclidean')))\n",
    "    \n",
    "    # Calculating the Calinski Harabasz score.\n",
    "    print('CH Index for kmeans K ='+str(n)+' -> '+str(calinski_harabasz_score(data, kmeans)))"
   ]
  },
  {
   "cell_type": "markdown",
   "metadata": {},
   "source": [
    "Now we can run the image through kmeans_analysis() with k = 2 to try out this method."
   ]
  },
  {
   "cell_type": "code",
   "execution_count": null,
   "metadata": {},
   "outputs": [
    {
     "data": {
      "image/png": "[encoded data removed]",
      "text/plain": [
       "<Figure size 432x288 with 1 Axes>"
      ]
     },
     "metadata": {
      "needs_background": "light"
     },
     "output_type": "display_data"
    },
    {
     "data": {
      "image/png": "[encoded data removed]",
      "text/plain": [
       "<Figure size 432x288 with 1 Axes>"
      ]
     },
     "metadata": {
      "needs_background": "light"
     },
     "output_type": "display_data"
    }
   ],
   "source": [
    "kmeans_analysis(para,4)"
   ]
  },
  {
   "cell_type": "code",
   "execution_count": null,
   "metadata": {},
   "outputs": [],
   "source": []
  }
 ],
 "metadata": {
  "kernelspec": {
   "display_name": "Python 3",
   "language": "python",
   "name": "python3"
  },
  "language_info": {
   "codemirror_mode": {
    "name": "ipython",
    "version": 3
   },
   "file_extension": ".py",
   "mimetype": "text/x-python",
   "name": "python",
   "nbconvert_exporter": "python",
   "pygments_lexer": "ipython3",
   "version": "3.7.4"
  }
 },
 "nbformat": 4,
 "nbformat_minor": 2
}
